{
 "cells": [
  {
   "cell_type": "markdown",
   "metadata": {},
   "source": [
    "#Problema No.1"
   ]
  },
  {
   "cell_type": "code",
   "execution_count": 10,
   "metadata": {},
   "outputs": [
    {
     "name": "stdout",
     "output_type": "stream",
     "text": [
      "Look Up, something is movin' fast\n"
     ]
    }
   ],
   "source": [
    "asteroide=49\n",
    "if asteroide>25:\n",
    "    print(\"Look Up, something is movin' fast\")\n",
    "else:\n",
    "    print(\"Falsa alarma crack, vuelve a las Katas\")"
   ]
  },
  {
   "cell_type": "markdown",
   "metadata": {},
   "source": [
    "#Problema No.2"
   ]
  },
  {
   "cell_type": "code",
   "execution_count": 13,
   "metadata": {},
   "outputs": [
    {
     "name": "stdout",
     "output_type": "stream",
     "text": [
      "Hay un asteroide en la atmosfera\n"
     ]
    }
   ],
   "source": [
    "asteroide2=19\n",
    "if asteroide2>=20:\n",
    "    print(\"Hay un asteroide en la atmosfera\")\n",
    "else:\n",
    "    print(\"Nothing flashy to look up for\")"
   ]
  },
  {
   "cell_type": "code",
   "execution_count": null,
   "metadata": {},
   "outputs": [
    {
     "name": "stdout",
     "output_type": "stream",
     "text": [
      "Hay un asteroide en la atmosfera\n"
     ]
    }
   ],
   "source": [
    "asteroide2=19\n",
    "if asteroide2>=20:\n",
    "    print(\"Hay un rasho de luz en la atmosfera\")\n",
    "elif asteroide==20:\n",
    "    print(\"Hay un rasho de luz en la atmosfera\")\n",
    "else:\n",
    "    print(\"Nothing flashy to look up for\")"
   ]
  },
  {
   "cell_type": "markdown",
   "metadata": {},
   "source": [
    "#Problema No.3"
   ]
  },
  {
   "cell_type": "code",
   "execution_count": 21,
   "metadata": {},
   "outputs": [
    {
     "name": "stdout",
     "output_type": "stream",
     "text": [
      "Bienvenido al simulador ¿Me extinguirá un asteroide\n",
      "Nada que ver por aqui :D\n"
     ]
    }
   ],
   "source": [
    "print(\"Bienvenido al simulador ¿Me extinguirá un asteroide?\")\n",
    "vel_asteroid = input(\"ingrese la velocidad del astroide\")\n",
    "tam_asteroid = input(\"ingrese el tamaño del asteroide\")\n",
    "if int(vel_asteroid)>25 and int(tam_asteroid)>25:\n",
    "    print(\"ADVERTENCIA Peligro letal se acerca. ONU assemble\")\n",
    "elif int(vel_asteroid)>=20:\n",
    "    print('Look up! ¡Hay una luz mágica en el cielo!')\n",
    "elif int(tam_asteroid)<25:\n",
    "    print('Nada que ver aqui, ya se quemó')\n",
    "else:\n",
    "    print(\"Nada que ver por aqui :D\")\n"
   ]
  }
 ],
 "metadata": {
  "interpreter": {
   "hash": "278dcc7ec8dee686665b4bc3b36bf93b70dd176e6a98e83fe9c5af6d4523251a"
  },
  "kernelspec": {
   "display_name": "Python 3.9.10 ('env': venv)",
   "language": "python",
   "name": "python3"
  },
  "language_info": {
   "codemirror_mode": {
    "name": "ipython",
    "version": 3
   },
   "file_extension": ".py",
   "mimetype": "text/x-python",
   "name": "python",
   "nbconvert_exporter": "python",
   "pygments_lexer": "ipython3",
   "version": "3.9.10"
  },
  "orig_nbformat": 4
 },
 "nbformat": 4,
 "nbformat_minor": 2
}
