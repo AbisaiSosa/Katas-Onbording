{
 "cells": [
  {
   "cell_type": "markdown",
   "metadata": {},
   "source": [
    "<h3>  Programa que muestra la fecha"
   ]
  },
  {
   "cell_type": "code",
   "execution_count": 3,
   "metadata": {},
   "outputs": [
    {
     "name": "stdout",
     "output_type": "stream",
     "text": [
      "Today´s date is: 2022-02-15\n",
      "Today´s date is: 2022-02-15\n"
     ]
    }
   ],
   "source": [
    "from datetime import date\n",
    "todaydate= date.today()\n",
    "\n",
    "print('Today´s date is: ' +str(todaydate))\n",
    "\n",
    "print('Today´s date is: ' +str(date.today()))"
   ]
  },
  {
   "cell_type": "markdown",
   "metadata": {},
   "source": [
    "<h3> Convertidor de Unidades"
   ]
  },
  {
   "cell_type": "code",
   "execution_count": 4,
   "metadata": {},
   "outputs": [
    {
     "name": "stdout",
     "output_type": "stream",
     "text": [
      "11 parsec, is 35.877159999999996 lightyears\n"
     ]
    }
   ],
   "source": [
    "parsec = 11\n",
    "\n",
    "lightyears = 3.26156 * parsec\n",
    "\n",
    "print(str(parsec) + \" parsec, is \" + str(lightyears) + \" lightyears\")"
   ]
  },
  {
   "cell_type": "code",
   "execution_count": 15,
   "metadata": {},
   "outputs": [
    {
     "name": "stdout",
     "output_type": "stream",
     "text": [
      "Bienvenido al Convertidor de Unidades\n",
      "Son 35.877159999999996 años luz\n"
     ]
    }
   ],
   "source": [
    "print(\"Bienvenido al Convertidor de Unidades\")\n",
    "parsec = input(\"Ingrese los parsecs: \")\n",
    "lightyears = 3.26156 #equivalencia de 1 parsec a años luz\n",
    "\n",
    "Resultado = (float(parsec)*lightyears)\n",
    "print(\"Son\", Resultado, \"años luz\")"
   ]
  },
  {
   "cell_type": "code",
   "execution_count": null,
   "metadata": {},
   "outputs": [],
   "source": []
  }
 ],
 "metadata": {
  "interpreter": {
   "hash": "4b5c3c01e4c142dc85342b4713ecf505d6877f336cf5199b96139bea3bb35e01"
  },
  "kernelspec": {
   "display_name": "Python 3.9.10 64-bit (windows store)",
   "language": "python",
   "name": "python3"
  },
  "language_info": {
   "codemirror_mode": {
    "name": "ipython",
    "version": 3
   },
   "file_extension": ".py",
   "mimetype": "text/x-python",
   "name": "python",
   "nbconvert_exporter": "python",
   "pygments_lexer": "ipython3",
   "version": "3.9.10"
  },
  "orig_nbformat": 4
 },
 "nbformat": 4,
 "nbformat_minor": 2
}
