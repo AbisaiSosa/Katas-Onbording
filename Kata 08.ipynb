{
 "cells": [
  {
   "cell_type": "markdown",
   "metadata": {},
   "source": [
    "<h3> Ejercicio 1"
   ]
  },
  {
   "cell_type": "markdown",
   "metadata": {},
   "source": [
    "<h1> Kata 08 \"Administrar datos con diccionarios\""
   ]
  },
  {
   "cell_type": "code",
   "execution_count": 3,
   "metadata": {},
   "outputs": [],
   "source": [
    "planet = {\n",
    "    'name': 'Mars',\n",
    "    'moons': 2\n",
    "}"
   ]
  },
  {
   "cell_type": "code",
   "execution_count": 20,
   "metadata": {},
   "outputs": [
    {
     "name": "stdout",
     "output_type": "stream",
     "text": [
      "Mars has  2 moons\n",
      "Mars\n"
     ]
    }
   ],
   "source": [
    "print(f'{planet.get(\"name\")} has  {planet.get(\"moons\")} moons')\n",
    "print(planet['name'])"
   ]
  },
  {
   "cell_type": "code",
   "execution_count": 21,
   "metadata": {},
   "outputs": [],
   "source": [
    "planet['circumference (km)']= {\n",
    "    'polar': 6752,\n",
    "    'equatorial' :6792\n",
    "\n",
    "}\n"
   ]
  },
  {
   "cell_type": "code",
   "execution_count": 23,
   "metadata": {},
   "outputs": [
    {
     "name": "stdout",
     "output_type": "stream",
     "text": [
      "Mars has a polar circumference of 6752 km\n"
     ]
    }
   ],
   "source": [
    "print(f'{planet[\"name\"]} has a polar circumference of {planet[\"circumference (km)\"][\"polar\"]} km')\n"
   ]
  },
  {
   "cell_type": "code",
   "execution_count": null,
   "metadata": {},
   "outputs": [],
   "source": []
  },
  {
   "cell_type": "markdown",
   "metadata": {},
   "source": [
    "<h3> Ejercicio 2: Programación dinámica con diccionarios"
   ]
  },
  {
   "cell_type": "code",
   "execution_count": 43,
   "metadata": {},
   "outputs": [
    {
     "name": "stdout",
     "output_type": "stream",
     "text": [
      "12\n"
     ]
    },
    {
     "ename": "TypeError",
     "evalue": "'builtin_function_or_method' object is not iterable",
     "output_type": "error",
     "traceback": [
      "\u001b[1;31m---------------------------------------------------------------------------\u001b[0m",
      "\u001b[1;31mTypeError\u001b[0m                                 Traceback (most recent call last)",
      "\u001b[1;32mc:\\Users\\chico\\OneDrive\\Escritorio\\LaunchX\\Kata 08.ipynb Cell 9'\u001b[0m in \u001b[0;36m<module>\u001b[1;34m\u001b[0m\n\u001b[0;32m     <a href='vscode-notebook-cell:/c%3A/Users/chico/OneDrive/Escritorio/LaunchX/Kata%2008.ipynb#ch0000011?line=18'>19</a>\u001b[0m \u001b[39mprint\u001b[39m(planets)\n\u001b[0;32m     <a href='vscode-notebook-cell:/c%3A/Users/chico/OneDrive/Escritorio/LaunchX/Kata%2008.ipynb#ch0000011?line=21'>22</a>\u001b[0m total_moons\u001b[39m=\u001b[39m\u001b[39m0\u001b[39m\n\u001b[1;32m---> <a href='vscode-notebook-cell:/c%3A/Users/chico/OneDrive/Escritorio/LaunchX/Kata%2008.ipynb#ch0000011?line=22'>23</a>\u001b[0m \u001b[39mfor\u001b[39;00m moon \u001b[39min\u001b[39;00m moons:\n\u001b[0;32m     <a href='vscode-notebook-cell:/c%3A/Users/chico/OneDrive/Escritorio/LaunchX/Kata%2008.ipynb#ch0000011?line=23'>24</a>\u001b[0m     total_moons \u001b[39m=\u001b[39m total_moons \u001b[39m+\u001b[39m moon\n\u001b[0;32m     <a href='vscode-notebook-cell:/c%3A/Users/chico/OneDrive/Escritorio/LaunchX/Kata%2008.ipynb#ch0000011?line=25'>26</a>\u001b[0m promedio \u001b[39m=\u001b[39m total_moons\u001b[39m/\u001b[39mplanets\n",
      "\u001b[1;31mTypeError\u001b[0m: 'builtin_function_or_method' object is not iterable"
     ]
    }
   ],
   "source": [
    "planet_moons = {\n",
    "    'mercury': 0,\n",
    "    'venus': 0,\n",
    "    'earth': 1,\n",
    "    'mars': 2,\n",
    "    'jupiter': 79,\n",
    "    'saturn': 82,\n",
    "    'uranus': 27,\n",
    "    'neptune': 14,\n",
    "    'pluto': 5,\n",
    "    'haumea': 2,\n",
    "    'makemake': 1,\n",
    "    'eris': 1\n",
    "}\n",
    "\n",
    "moons=planet_moons.values\n",
    "planets=len(planet_moons.keys())\n",
    "\n",
    "print(planets)\n",
    "\n",
    "\n",
    "total_moons=0\n",
    "for moon in moons:  #marca TypeError: 'builtin_function_or_method' object is not iterable\n",
    "    total_moons = total_moons + moon\n",
    "\n",
    "promedio = total_moons/planets\n",
    "\n",
    "print(promedio)"
   ]
  },
  {
   "cell_type": "code",
   "execution_count": 41,
   "metadata": {},
   "outputs": [
    {
     "name": "stdout",
     "output_type": "stream",
     "text": [
      "17.833333333333332\n"
     ]
    }
   ],
   "source": [
    "\n",
    "moons = planet_moons.values()\n",
    "\n",
    "planets = len(planet_moons.keys())\n",
    "\n",
    "total_moons = 0\n",
    "for moon in moons:\n",
    "    total_moons = total_moons + moon\n",
    "\n",
    "promedio = total_moons / planets\n",
    "\n",
    "print(promedio)"
   ]
  },
  {
   "cell_type": "code",
   "execution_count": null,
   "metadata": {},
   "outputs": [],
   "source": []
  }
 ],
 "metadata": {
  "interpreter": {
   "hash": "4b5c3c01e4c142dc85342b4713ecf505d6877f336cf5199b96139bea3bb35e01"
  },
  "kernelspec": {
   "display_name": "Python 3.9.10 64-bit (windows store)",
   "language": "python",
   "name": "python3"
  },
  "language_info": {
   "codemirror_mode": {
    "name": "ipython",
    "version": 3
   },
   "file_extension": ".py",
   "mimetype": "text/x-python",
   "name": "python",
   "nbconvert_exporter": "python",
   "pygments_lexer": "ipython3",
   "version": "3.9.10"
  },
  "orig_nbformat": 4
 },
 "nbformat": 4,
 "nbformat_minor": 2
}
