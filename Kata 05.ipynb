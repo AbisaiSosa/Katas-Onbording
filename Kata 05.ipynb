{
 "cells": [
  {
   "cell_type": "markdown",
   "metadata": {},
   "source": [
    "<h1> Kata 05 Usar operaciones matemáticas"
   ]
  },
  {
   "cell_type": "code",
   "execution_count": 4,
   "metadata": {},
   "outputs": [],
   "source": [
    "earth=149597870\n",
    "jupiter=778547200"
   ]
  },
  {
   "cell_type": "markdown",
   "metadata": {},
   "source": [
    "<h3>Ejercicio 1"
   ]
  },
  {
   "cell_type": "code",
   "execution_count": 8,
   "metadata": {},
   "outputs": [
    {
     "name": "stdout",
     "output_type": "stream",
     "text": [
      "628949330 kms entre ambos planetas\n"
     ]
    }
   ],
   "source": [
    "distance= (jupiter-earth)\n",
    "print(distance,\"kms entre ambos planetas\")"
   ]
  },
  {
   "cell_type": "markdown",
   "metadata": {},
   "source": [
    "<h3> Ejercicio 2"
   ]
  },
  {
   "cell_type": "code",
   "execution_count": 30,
   "metadata": {},
   "outputs": [
    {
     "name": "stdout",
     "output_type": "stream",
     "text": [
      "4437200000\n",
      "2755501200.0\n"
     ]
    }
   ],
   "source": [
    "planet1=input(\"Introduce la distancia en KM\")\n",
    "planet2=input(\"Introduce la distancia en KM\")\n",
    "\n",
    "planet1=int(planet1)\n",
    "planet2=int(planet2)\n",
    "\n",
    "distancia_km = planet2-planet1\n",
    "print(abs(distancia_km))\n",
    "\n",
    "distancia_mill = distancia_km*0.621\n",
    "print(abs(distancia_mill))"
   ]
  }
 ],
 "metadata": {
  "interpreter": {
   "hash": "4b5c3c01e4c142dc85342b4713ecf505d6877f336cf5199b96139bea3bb35e01"
  },
  "kernelspec": {
   "display_name": "Python 3.9.10 64-bit (windows store)",
   "language": "python",
   "name": "python3"
  },
  "language_info": {
   "codemirror_mode": {
    "name": "ipython",
    "version": 3
   },
   "file_extension": ".py",
   "mimetype": "text/x-python",
   "name": "python",
   "nbconvert_exporter": "python",
   "pygments_lexer": "ipython3",
   "version": "3.9.10"
  },
  "orig_nbformat": 4
 },
 "nbformat": 4,
 "nbformat_minor": 2
}
